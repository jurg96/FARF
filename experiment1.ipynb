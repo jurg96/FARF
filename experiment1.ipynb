{
 "cells": [
  {
   "cell_type": "code",
   "execution_count": 1,
   "metadata": {},
   "outputs": [],
   "source": [
    "import numpy as np\n",
    "from modules import RandomForestClustRegressor, RotationLSH\n",
    "\n",
    "%load_ext autoreload\n",
    "%autoreload 2"
   ]
  },
  {
   "cell_type": "code",
   "execution_count": 2,
   "metadata": {},
   "outputs": [
    {
     "data": {
      "text/plain": [
       "RandomForestClustRegressor(bootstrap=True, max_depth=15, max_features=1,\n",
       "              max_leaf_nodes=None, min_samples_leaf=64,\n",
       "              min_samples_split=2, n_estimators=10, n_jobs=None,\n",
       "              random_state=7, warm_start=False)"
      ]
     },
     "execution_count": 2,
     "metadata": {},
     "output_type": "execute_result"
    }
   ],
   "source": [
    "X = np.random.randn(1000, 486)\n",
    "Y = np.random.randn(1000, 81)\n",
    "\n",
    "lsh = RotationLSH()\n",
    "X_comp = lsh.fit_transform(X, n_iter=10)\n",
    "\n",
    "rf = RandomForestClustRegressor()\n",
    "rf.fit(X, X_comp, Y)"
   ]
  },
  {
   "cell_type": "code",
   "execution_count": 3,
   "metadata": {},
   "outputs": [
    {
     "data": {
      "text/plain": [
       "(10, 81)"
      ]
     },
     "execution_count": 3,
     "metadata": {},
     "output_type": "execute_result"
    }
   ],
   "source": [
    "X_test = np.random.randn(10,486)\n",
    "X_test_comp = lsh.transform(X)\n",
    "\n",
    "rf.predict(X_test, X_test_comp).shape"
   ]
  }
 ],
 "metadata": {
  "kernelspec": {
   "display_name": "Python3 (main-env)",
   "language": "python",
   "name": "main-env"
  },
  "language_info": {
   "codemirror_mode": {
    "name": "ipython",
    "version": 3
   },
   "file_extension": ".py",
   "mimetype": "text/x-python",
   "name": "python",
   "nbconvert_exporter": "python",
   "pygments_lexer": "ipython3",
   "version": "3.6.6"
  }
 },
 "nbformat": 4,
 "nbformat_minor": 2
}
