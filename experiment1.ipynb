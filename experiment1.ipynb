{
 "cells": [
  {
   "cell_type": "code",
   "execution_count": 10,
   "metadata": {},
   "outputs": [
    {
     "name": "stdout",
     "output_type": "stream",
     "text": [
      "The autoreload extension is already loaded. To reload it, use:\n",
      "  %reload_ext autoreload\n"
     ]
    }
   ],
   "source": [
    "import os\n",
    "import numpy as np\n",
    "\n",
    "import matplotlib.pyplot as plt\n",
    "%matplotlib inline\n",
    "\n",
    "import util\n",
    "from modules import RotationLSH, RandomForestClustRegressor, PictureResolver\n",
    "\n",
    "%load_ext autoreload\n",
    "%autoreload 2"
   ]
  },
  {
   "cell_type": "markdown",
   "metadata": {},
   "source": [
    "## Generate training sample"
   ]
  },
  {
   "cell_type": "code",
   "execution_count": 31,
   "metadata": {},
   "outputs": [],
   "source": [
    "data_dir = '../data/Set14'\n",
    "files = ['barbara.png', 'bridge.png', 'comic.png', 'pepper.png', 'man.png']\n",
    "\n",
    "np.random.seed(7)\n",
    "\n",
    "n_samples = 10000\n",
    "s = 1/2\n",
    "X = []\n",
    "Y = []\n",
    "for file in files:\n",
    "    path = os.path.join(data_dir, file)\n",
    "    img_h = util.load_image(path)\n",
    "    shape = img_h.shape\n",
    "    new_shape = tuple(dim - (dim % int(1/s)) for dim in shape) # so that the HR and LR images have same size\n",
    "    img_h = img_h[0:new_shape[0], 0:new_shape[1]]\n",
    "    img_l = util.resize(util.resize(img_h, s), 1/s) # downsample -> upsample\n",
    "    \n",
    "    features = util.get_features(img_l)\n",
    "    img_out_delta = img_h - img_l\n",
    "    assert img_h.shape == img_l.shape == img_out_delta.shape == new_shape\n",
    "    \n",
    "    x_ind = np.random.randint(0, new_shape[0]-9, size=2000)\n",
    "    y_ind = np.random.randint(0, new_shape[1]-9, size=2000)\n",
    "    for x, y in zip(x_ind, y_ind):\n",
    "        feat_patch = features[x:x+9, y:y+9]\n",
    "        delta_patch = img_out_delta[x:x+9, y:y+9]\n",
    "        X.append(feat_patch.flatten())\n",
    "        Y.append(delta_patch.flatten())\n",
    "    \n",
    "X = np.array(X)\n",
    "Y = np.array(Y)\n",
    "\n",
    "print(X.shape)\n",
    "print(Y.shape)"
   ]
  },
  {
   "cell_type": "code",
   "execution_count": null,
   "metadata": {},
   "outputs": [],
   "source": []
  },
  {
   "cell_type": "markdown",
   "metadata": {},
   "source": [
    "## Train and evaluate model"
   ]
  },
  {
   "cell_type": "code",
   "execution_count": null,
   "metadata": {},
   "outputs": [
    {
     "name": "stderr",
     "output_type": "stream",
     "text": [
      "C:\\Anaconda3\\envs\\main-env\\lib\\site-packages\\sklearn\\linear_model\\coordinate_descent.py:491: ConvergenceWarning: Objective did not converge. You might want to increase the number of iterations. Fitting data with very small alpha may cause precision problems.\n",
      "  ConvergenceWarning)\n",
      "C:\\Anaconda3\\envs\\main-env\\lib\\site-packages\\sklearn\\linear_model\\coordinate_descent.py:491: ConvergenceWarning: Objective did not converge. You might want to increase the number of iterations. Fitting data with very small alpha may cause precision problems.\n",
      "  ConvergenceWarning)\n",
      "C:\\Anaconda3\\envs\\main-env\\lib\\site-packages\\sklearn\\linear_model\\coordinate_descent.py:491: ConvergenceWarning: Objective did not converge. You might want to increase the number of iterations. Fitting data with very small alpha may cause precision problems.\n",
      "  ConvergenceWarning)\n",
      "C:\\Anaconda3\\envs\\main-env\\lib\\site-packages\\sklearn\\linear_model\\coordinate_descent.py:491: ConvergenceWarning: Objective did not converge. You might want to increase the number of iterations. Fitting data with very small alpha may cause precision problems.\n",
      "  ConvergenceWarning)\n",
      "C:\\Anaconda3\\envs\\main-env\\lib\\site-packages\\sklearn\\linear_model\\coordinate_descent.py:491: ConvergenceWarning: Objective did not converge. You might want to increase the number of iterations. Fitting data with very small alpha may cause precision problems.\n",
      "  ConvergenceWarning)\n",
      "C:\\Anaconda3\\envs\\main-env\\lib\\site-packages\\sklearn\\linear_model\\coordinate_descent.py:491: ConvergenceWarning: Objective did not converge. You might want to increase the number of iterations. Fitting data with very small alpha may cause precision problems.\n",
      "  ConvergenceWarning)\n",
      "C:\\Anaconda3\\envs\\main-env\\lib\\site-packages\\sklearn\\linear_model\\coordinate_descent.py:491: ConvergenceWarning: Objective did not converge. You might want to increase the number of iterations. Fitting data with very small alpha may cause precision problems.\n",
      "  ConvergenceWarning)\n",
      "C:\\Anaconda3\\envs\\main-env\\lib\\site-packages\\sklearn\\linear_model\\coordinate_descent.py:491: ConvergenceWarning: Objective did not converge. You might want to increase the number of iterations. Fitting data with very small alpha may cause precision problems.\n",
      "  ConvergenceWarning)\n",
      "C:\\Anaconda3\\envs\\main-env\\lib\\site-packages\\sklearn\\linear_model\\coordinate_descent.py:491: ConvergenceWarning: Objective did not converge. You might want to increase the number of iterations. Fitting data with very small alpha may cause precision problems.\n",
      "  ConvergenceWarning)\n",
      "C:\\Anaconda3\\envs\\main-env\\lib\\site-packages\\sklearn\\linear_model\\coordinate_descent.py:491: ConvergenceWarning: Objective did not converge. You might want to increase the number of iterations. Fitting data with very small alpha may cause precision problems.\n",
      "  ConvergenceWarning)\n",
      "C:\\Anaconda3\\envs\\main-env\\lib\\site-packages\\sklearn\\linear_model\\coordinate_descent.py:491: ConvergenceWarning: Objective did not converge. You might want to increase the number of iterations. Fitting data with very small alpha may cause precision problems.\n",
      "  ConvergenceWarning)\n",
      "C:\\Anaconda3\\envs\\main-env\\lib\\site-packages\\sklearn\\linear_model\\coordinate_descent.py:491: ConvergenceWarning: Objective did not converge. You might want to increase the number of iterations. Fitting data with very small alpha may cause precision problems.\n",
      "  ConvergenceWarning)\n",
      "C:\\Anaconda3\\envs\\main-env\\lib\\site-packages\\sklearn\\linear_model\\coordinate_descent.py:491: ConvergenceWarning: Objective did not converge. You might want to increase the number of iterations. Fitting data with very small alpha may cause precision problems.\n",
      "  ConvergenceWarning)\n"
     ]
    }
   ],
   "source": [
    "lsh = RotationLSH()\n",
    "X_comp = lsh.fit_transform(X, n_iter=10)\n",
    "\n",
    "rf = RandomForestClustRegressor()\n",
    "rf.fit(X, X_comp, Y)"
   ]
  },
  {
   "cell_type": "code",
   "execution_count": null,
   "metadata": {},
   "outputs": [],
   "source": [
    "with open('rf.pkl', 'wb') as output:\n",
    "    pickle.dump(rf, output, pickle.HIGHEST_PROTOCOL)"
   ]
  },
  {
   "cell_type": "code",
   "execution_count": null,
   "metadata": {},
   "outputs": [],
   "source": []
  },
  {
   "cell_type": "code",
   "execution_count": null,
   "metadata": {},
   "outputs": [],
   "source": [
    "path_test = os.path.join(data_dir, 'face.png')\n",
    "img_test = util.load_image(path)\n",
    "x = util.resize(util.resize(img_test, s), 1/s)\n",
    "\n",
    "pr = PictureResolver(rf, lsh)\n",
    "y = pr.resolve(x)\n",
    "\n",
    "fig, ax = plt.subplots(1,3, figsize=(18,7))\n",
    "ax[0].imshow(x, cmap='Greys_r')\n",
    "ax[1].imshow(y, cmap='Greys_r')\n",
    "ax[2].imshow(y-x, cmap='Greys_r')\n",
    "\n",
    "ax[0].set_xlabel('LR Image')\n",
    "ax[1].set_xlabel('HR Image estimate')\n",
    "ax[2].set_xlabel('Difference')"
   ]
  }
 ],
 "metadata": {
  "kernelspec": {
   "display_name": "Python3 (main-env)",
   "language": "python",
   "name": "main-env"
  },
  "language_info": {
   "codemirror_mode": {
    "name": "ipython",
    "version": 3
   },
   "file_extension": ".py",
   "mimetype": "text/x-python",
   "name": "python",
   "nbconvert_exporter": "python",
   "pygments_lexer": "ipython3",
   "version": "3.6.6"
  }
 },
 "nbformat": 4,
 "nbformat_minor": 2
}
