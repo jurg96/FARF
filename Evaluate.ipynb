{
 "cells": [
  {
   "cell_type": "code",
   "execution_count": null,
   "metadata": {},
   "outputs": [],
   "source": [
    "import os\n",
    "import numpy as np\n",
    "import pandas as pd\n",
    "import pickle\n",
    "\n",
    "from skimage.measure import compare_psnr\n",
    "from sklearn.preprocessing import StandardScaler\n",
    "\n",
    "import utils\n",
    "from modules import RotationLSH, IdentityLSH, PcaLSH, RandomForestClustRegressor, PictureResolver"
   ]
  },
  {
   "cell_type": "code",
   "execution_count": null,
   "metadata": {},
   "outputs": [],
   "source": [
    "model_names = ['./trained_models/example_model.pkl']\n",
    "\n",
    "data_dir_test = '../data/Set14'\n",
    "test_paths = os.listdir(data_dir_test)"
   ]
  },
  {
   "cell_type": "code",
   "execution_count": null,
   "metadata": {},
   "outputs": [],
   "source": [
    "results_df = pd.DataFrame(columns=test_paths)\n",
    "\n",
    "for row_num, model_name in enumerate(model_names):\n",
    "    with open(model_name, 'rb') as inp:\n",
    "        model = pickle.load(inp)\n",
    "\n",
    "    config = model['config']\n",
    "    scaler = model['scaler']\n",
    "    lsh = model['lsh']\n",
    "    rf = model['rf']\n",
    "    \n",
    "    s = config['s']\n",
    "    augmented = config['augmented']\n",
    "    \n",
    "    pr = PictureResolver(rf, lsh, scaler)\n",
    "    \n",
    "    for param in ['s', 'n_samples', 'augmented', 'reg_type', 'min_samples_leaf', 'alpha']:\n",
    "        results_df.loc[row_num, param] = config[param]\n",
    "    \n",
    "    lsh_type = config['lsh_type']\n",
    "    if lsh_type == 'identity':\n",
    "        lsh_type_full = 'identity'\n",
    "    elif lsh_type == 'rotation':\n",
    "        lsh_type_full = 'rotation_binary={}'.format(config['binary'])\n",
    "    elif lsh_type == 'pca':\n",
    "        lsh_type_full = 'pca_{}'.format(config['n_components'])\n",
    "        \n",
    "    results_df.loc[row_num, 'lsh_type'] = lsh_type_full\n",
    "\n",
    "\n",
    "    for test_path in test_paths:\n",
    "        img_test = utils.load_image(os.path.join(data_dir_test, test_path))\n",
    "        img_test = utils.crop_image(img_test, s)\n",
    "        x = utils.resize(utils.resize(img_test, s), 1/s)\n",
    "\n",
    "        y = pr.resolve(x, augmented=augmented)\n",
    "        images, y = utils.crop_by_nan([img_test], y)\n",
    "        img_test = images[0]\n",
    "\n",
    "        results_df.loc[row_num, test_path] = compare_psnr(img_test, y, np.max(img_test) - np.min(img_test))\n",
    "        \n",
    "pic_columns = [col for col in results_df.columns if col.endswith('.png')]\n",
    "results_df['psnr_avg'] = results_df[pic_columns].apply(np.mean, axis=1)"
   ]
  },
  {
   "cell_type": "code",
   "execution_count": null,
   "metadata": {},
   "outputs": [],
   "source": [
    "results_df"
   ]
  }
 ],
 "metadata": {
  "kernelspec": {
   "display_name": "Python3 (main-env)",
   "language": "python",
   "name": "main-env"
  },
  "language_info": {
   "codemirror_mode": {
    "name": "ipython",
    "version": 3
   },
   "file_extension": ".py",
   "mimetype": "text/x-python",
   "name": "python",
   "nbconvert_exporter": "python",
   "pygments_lexer": "ipython3",
   "version": "3.6.6"
  }
 },
 "nbformat": 4,
 "nbformat_minor": 2
}
